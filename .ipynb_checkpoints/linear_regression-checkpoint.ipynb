{
 "cells": [
  {
   "cell_type": "markdown",
   "metadata": {},
   "source": [
    "# Linear Regression Example\n",
    "使用tensorflow库建立线性回归模型\n",
    "    - Author：xiaoran\n",
    "    -- Time：2017-09-04 23:16\n"
   ]
  },
  {
   "cell_type": "code",
   "execution_count": 31,
   "metadata": {
    "collapsed": true
   },
   "outputs": [],
   "source": [
    "import tensorflow as tf\n",
    "import numpy as np\n",
    "import matplotlib.pyplot as plt\n"
   ]
  },
  {
   "cell_type": "code",
   "execution_count": 32,
   "metadata": {
    "collapsed": true
   },
   "outputs": [],
   "source": [
    "# paramenters\n",
    "learning_rate = 0.01\n",
    "training_epochs = 1000\n",
    "display_step = 50\n"
   ]
  },
  {
   "cell_type": "code",
   "execution_count": 33,
   "metadata": {
    "collapsed": true
   },
   "outputs": [],
   "source": [
    "# train_data\n",
    "train_X = np.array([3.3,4.4,5.5,6.71,6.93,4.168,9.779,6.182,7.59,2.167,\n",
    "                    7.042,10.791,5.313,7.997,5.654,9.27,3.1])\n",
    "\n",
    "train_Y = np.array([1.7,2.76,2.09,3.19,1.694,1.573,3.366,2.596,2.53,1.221,\n",
    "                    2.827,3.465,1.65,2.904,2.42,2.94,1.3])\n",
    "\n",
    "# 得到训练数据的长度\n",
    "n_samples = train_X.shape[0] \n"
   ]
  },
  {
   "cell_type": "code",
   "execution_count": 34,
   "metadata": {
    "collapsed": false
   },
   "outputs": [],
   "source": [
    "#step 1 构建图模型，设置输入输出占位符\n",
    "X = tf.placeholder(\"float\")\n",
    "Y = tf.placeholder(\"float\")\n",
    "\n",
    "# step 2 、设置参数格式,使用随机数填充\n",
    "W = tf.Variable(np.random.randn(), name = \"weight\")\n",
    "b = tf.Variable(np.random.randn(), name = \"bias\")\n",
    "\n",
    "\n",
    "# step 3 构建图模型\n",
    "pred_y = tf.add(tf.multiply(X,W), b)\n",
    "\n",
    "# step 4 设置loss函数,使用 平方差的平均值\n",
    "loss = tf.reduce_sum(tf.pow(pred_y - Y, 2)) / (2 * n_samples)\n",
    "\n",
    "# step 5 构造优化器，定义优化方式\n",
    "optimizer = tf.train.GradientDescentOptimizer(learning_rate).minimize(loss)\n"
   ]
  },
  {
   "cell_type": "code",
   "execution_count": 36,
   "metadata": {
    "collapsed": false
   },
   "outputs": [
    {
     "name": "stdout",
     "output_type": "stream",
     "text": [
      "Epocj:   50 loss =  0.093632028 W= 0.321868 b= 0.281528\n",
      "Epocj:  100 loss =  0.091705352 W= 0.31757 b= 0.312452\n",
      "Epocj:  150 loss =  0.090001449 W= 0.313527 b= 0.341535\n",
      "Epocj:  200 loss =  0.088494509 W= 0.309724 b= 0.36889\n",
      "Epocj:  250 loss =  0.087161794 W= 0.306148 b= 0.394618\n",
      "Epocj:  300 loss =  0.085983254 W= 0.302784 b= 0.418815\n",
      "Epocj:  350 loss =  0.084940955 W= 0.299621 b= 0.441573\n",
      "Epocj:  400 loss =  0.084019229 W= 0.296645 b= 0.462978\n",
      "Epocj:  450 loss =  0.083204091 W= 0.293847 b= 0.48311\n",
      "Epocj:  500 loss =  0.082483336 W= 0.291215 b= 0.502043\n",
      "Epocj:  550 loss =  0.081845991 W= 0.28874 b= 0.51985\n",
      "Epocj:  600 loss =  0.081282362 W= 0.286412 b= 0.5366\n",
      "Epocj:  650 loss =  0.080783956 W= 0.284222 b= 0.552353\n",
      "Epocj:  700 loss =  0.080343276 W= 0.282162 b= 0.567169\n",
      "Epocj:  750 loss =  0.079953626 W= 0.280225 b= 0.581105\n",
      "Epocj:  800 loss =  0.079609081 W= 0.278403 b= 0.594212\n",
      "Epocj:  850 loss =  0.079304449 W= 0.27669 b= 0.60654\n",
      "Epocj:  900 loss =  0.079035170 W= 0.275078 b= 0.618133\n",
      "Epocj:  950 loss =  0.078797117 W= 0.273562 b= 0.629036\n",
      "Epocj: 1000 loss =  0.078586638 W= 0.272137 b= 0.63929\n",
      "Optimization Finished!\n"
     ]
    },
    {
     "data": {
      "image/png": "[encoded data removed]",
      "text/plain": [
       "<matplotlib.figure.Figure at 0x7fb1e45b4ed0>"
      ]
     },
     "metadata": {},
     "output_type": "display_data"
    }
   ],
   "source": [
    "# step 开始训练模型\n",
    "with tf.Session() as sess:\n",
    "    # 初始化所有全局变量,两句\n",
    "    init = tf.global_variables_initializer()\n",
    "    sess.run(init)\n",
    "    \n",
    "    \n",
    "    # 填充所有训练集进行训练\n",
    "    for epoch in range(training_epochs):\n",
    "        for (x,y) in zip(train_X, train_Y):\n",
    "            sess.run(optimizer,feed_dict={X:x, Y: y})\n",
    "        \n",
    "        if (epoch + 1) % display_step == 0:\n",
    "            c = sess.run(loss, feed_dict={X:train_X, Y:train_Y})\n",
    "            print \"Epocj:\", \"%4d\" % (epoch+1), \"loss = \", \"{:.9f}\".format(c), \\\n",
    "                \"W=\", sess.run(W), \"b=\", sess.run(b)\n",
    "    \n",
    "    print \"Optimization Finished!\"\n",
    "    \n",
    "    # 显示图模型\n",
    "    plt.plot(train_X, train_Y, 'ro',label = 'Original Data')\n",
    "    plt.plot(train_X, sess.run(W) * train_X+sess.run(b), label = 'Fitted Line')\n",
    "    \n",
    "    plt.legend()\n",
    "    plt.show()\n",
    "\n"
   ]
  },
  {
   "cell_type": "code",
   "execution_count": null,
   "metadata": {
    "collapsed": true
   },
   "outputs": [],
   "source": []
  }
 ],
 "metadata": {
  "kernelspec": {
   "display_name": "Python 2",
   "language": "python",
   "name": "python2"
  },
  "language_info": {
   "codemirror_mode": {
    "name": "ipython",
    "version": 2
   },
   "file_extension": ".py",
   "mimetype": "text/x-python",
   "name": "python",
   "nbconvert_exporter": "python",
   "pygments_lexer": "ipython2",
   "version": "2.7.12"
  }
 },
 "nbformat": 4,
 "nbformat_minor": 2
}
